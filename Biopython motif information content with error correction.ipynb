{
 "cells": [
  {
   "cell_type": "code",
   "execution_count": 1,
   "metadata": {
    "collapsed": true
   },
   "outputs": [],
   "source": [
    "from Bio import motifs\n",
    "import numpy as np\n",
    "with open(\"../plot_playground/meme_out/meme.txt\") as handle:\n",
    "    m = motifs.parse(handle, \"meme\")"
   ]
  },
  {
   "cell_type": "code",
   "execution_count": 3,
   "metadata": {
    "collapsed": true
   },
   "outputs": [],
   "source": [
    "def calc_info_matrix(motif):\n",
    "    pwm = motif.pwm\n",
    "    bases = pwm.keys()\n",
    "    info_matrix = [2+sum([pwm[b][l]*np.nan_to_num(np.log2(pwm[b][l])) for b in bases]) for l in range(0, len(motif))]\n",
    "    return info_matrix\n",
    "\n",
    "def approximate_error(motif):\n",
    "    pwm = motif.pwm\n",
    "    bases = pwm.keys()\n",
    "    n = sum(motif.counts[bases[0]])\n",
    "    info_matrix = calc_info_matrix(motif)\n",
    "    approx_correction = (len(bases)-1)/(2 * np.log(2) * n)\n",
    "    print approx_correction\n",
    "    corrected_matrix = [2-approx_correction+sum([pwm[b][l]*np.nan_to_num(np.log2(pwm[b][l])) for b in bases]) for l in range(0, len(motif))]\n",
    "    return corrected_matrix\n",
    "\n",
    "def calc_relative_information(motif, approx_correction=True):\n",
    "    pwm = motif.pwm\n",
    "    bases = pwm.keys()\n",
    "    if approx_correction:\n",
    "        info_matrix = approximate_error(motif)\n",
    "    else:\n",
    "        info_matrix = calc_info_matrix(motif)\n",
    "    relative_info = {base: [prob*info for prob,info in zip(pwm[base], info_matrix)]  for base in bases}\n",
    "    return relative_info\n",
    "    \n",
    "def exact_correction(motif):\n",
    "    pwm = motif.pwm\n",
    "    bases = pwm.keys()\n",
    "    na = sum(motif.counts['A'])\n",
    "    n = na//10\n",
    "    nc = 0\n",
    "    ng = 0\n",
    "    nt = 0\n",
    "    done = False\n",
    "    exact_error = 0\n",
    "    while not done:\n",
    "        exact_error += sum([-p*np.log2(p) for p in [na/n, nc/n, ng/n, nt/n]])\n",
    "        if nt<=0:\n",
    "            ## iterate inner loop            \n",
    "            if ng > 0:\n",
    "                ## g => t\n",
    "                ng = ng - 1\n",
    "                nt = nt + 1\n",
    "            elif nc > 0:\n",
    "                ## c -> g \n",
    "                nc = nc - 1;\n",
    "                ng = ng + 1;\n",
    "            else:\n",
    "                ## a->c\n",
    "                na = na - 1\n",
    "                nc = nc + 1\n",
    "        else:\n",
    "            if ng > 0:\n",
    "                ## g => t\n",
    "                ng = ng - 1 \n",
    "                nt = nt + 1\n",
    "            elif nc > 0:\n",
    "                ## c => g; all t -> g\n",
    "                nc = nc - 1\n",
    "                ng = nt + 1\n",
    "                nt = 0\n",
    "            elif na > 0:\n",
    "                ## a => c; all g,t -> c\n",
    "                nc = nt + 1\n",
    "                na = na - 1\n",
    "                nt = 0\n",
    "            else:\n",
    "                done = True\n",
    "    print (exact_error)"
   ]
  },
  {
   "cell_type": "code",
   "execution_count": null,
   "metadata": {
    "collapsed": false
   },
   "outputs": [
    {
     "name": "stderr",
     "output_type": "stream",
     "text": [
      "/home/saket/anaconda2/lib/python2.7/site-packages/ipykernel/__main__.py:38: RuntimeWarning: divide by zero encountered in log2\n",
      "/home/saket/anaconda2/lib/python2.7/site-packages/ipykernel/__main__.py:38: RuntimeWarning: invalid value encountered in double_scalars\n"
     ]
    }
   ],
   "source": [
    "exact_correction(m[0])"
   ]
  },
  {
   "cell_type": "code",
   "execution_count": null,
   "metadata": {
    "collapsed": true
   },
   "outputs": [],
   "source": []
  }
 ],
 "metadata": {
  "kernelspec": {
   "display_name": "Python 2",
   "language": "python",
   "name": "python2"
  },
  "language_info": {
   "codemirror_mode": {
    "name": "ipython",
    "version": 2
   },
   "file_extension": ".py",
   "mimetype": "text/x-python",
   "name": "python",
   "nbconvert_exporter": "python",
   "pygments_lexer": "ipython2",
   "version": "2.7.11"
  }
 },
 "nbformat": 4,
 "nbformat_minor": 0
}
